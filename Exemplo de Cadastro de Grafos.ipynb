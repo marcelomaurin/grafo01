{
 "cells": [
  {
   "cell_type": "markdown",
   "id": "e6499bea",
   "metadata": {},
   "source": [
    "# Montando ambiente"
   ]
  },
  {
   "cell_type": "code",
   "execution_count": 17,
   "id": "5b41ad9c",
   "metadata": {},
   "outputs": [
    {
     "name": "stderr",
     "output_type": "stream",
     "text": [
      "[nltk_data] Downloading package stopwords to\n",
      "[nltk_data]     C:\\Users\\marcelo.maurin\\AppData\\Roaming\\nltk_data...\n",
      "[nltk_data]   Package stopwords is already up-to-date!\n"
     ]
    }
   ],
   "source": [
    "import mysql.connector\n",
    "import nltk\n",
    "nltk.download(\"stopwords\")\n",
    "from nltk.corpus import stopwords\n",
    "\n",
    "\n",
    "stop_words = set(stopwords.words('portuguese'))\n",
    "\n",
    "# Configuração da conexão com o banco\n",
    "DB_CONFIG = {\n",
    "    \"host\": \"localhost\",\n",
    "    \"user\": \"root\",\n",
    "    \"password\": \"\",\n",
    "    \"database\": \"graph_db\"\n",
    "}\n",
    "\n",
    "\"\"\"Cria arestas com base em frases de exemplo.\"\"\"\n",
    "frases = [\n",
    "        \"Comece a gravação de áudio\",\n",
    "        \"Salve esse texto importante\",\n",
    "        \"Defina um alerta para amanhã\",\n",
    "        \"Quero a gravação dessa reunião\",\n",
    "        \"Salve a anotação rapidamente\"\n",
    "]\n",
    "\n",
    "comandos = [\n",
    "        \"Iniciar gravação\",\n",
    "        \"Salvar texto\",\n",
    "        \"Configurar alerta\",\n",
    "        \"Iniciar gravação\",\n",
    "        \"Salvar anotação\"\n",
    "]"
   ]
  },
  {
   "cell_type": "markdown",
   "id": "cb5fe7d3",
   "metadata": {},
   "source": [
    "## Declara a funçao de conexao"
   ]
  },
  {
   "cell_type": "code",
   "execution_count": 9,
   "id": "0ad26ff0",
   "metadata": {},
   "outputs": [],
   "source": [
    "def connect_to_database():\n",
    "    \"\"\"Retorna uma conexão com o banco de dados.\"\"\"\n",
    "    return mysql.connector.connect(**DB_CONFIG)"
   ]
  },
  {
   "cell_type": "markdown",
   "id": "cde6b6ff",
   "metadata": {},
   "source": [
    "## Função Pega texto"
   ]
  },
  {
   "cell_type": "code",
   "execution_count": 3,
   "id": "2af5ddf9",
   "metadata": {},
   "outputs": [],
   "source": [
    "def get_id(name, table):\n",
    "    \"\"\"Busca o ID de um item pelo nome, na tabela especificada.\"\"\"\n",
    "    connection = connect_to_database()\n",
    "    cursor = connection.cursor()\n",
    "    \n",
    "    column = \"word_name\" if table == \"words\" else \"command_name\"\n",
    "    query = f\"SELECT * FROM {table} WHERE {column}=%s\"\n",
    "    cursor.execute(query, (name,))\n",
    "    result = cursor.fetchone()\n",
    "    \n",
    "    cursor.close()\n",
    "    connection.close()\n",
    "    \n",
    "    return result[0] if result else None"
   ]
  },
  {
   "cell_type": "markdown",
   "id": "29534f46",
   "metadata": {},
   "source": [
    "## Popula Arestas"
   ]
  },
  {
   "cell_type": "code",
   "execution_count": 4,
   "id": "df1a4675",
   "metadata": {},
   "outputs": [],
   "source": [
    "def populaArestas(word1, word2, command):\n",
    "    \"\"\"Popula a tabela edges com as relações entre palavras e comando.\"\"\"\n",
    "    connection = connect_to_database()\n",
    "    cursor = connection.cursor()\n",
    "    \n",
    "    word1_id = get_id(word1, 'words')\n",
    "    word2_id = get_id(word2, 'words')\n",
    "    command_id = get_id(command, 'commands')\n",
    "    \n",
    "    if not word1_id or not word2_id or not command_id:\n",
    "        print(f\"Erro: Palavras ou comando não encontrados: '{word1}', '{word2}', '{command}'\")\n",
    "        return\n",
    "    \n",
    "    insert_query = \"INSERT INTO edges (word_id, command_id) VALUES (%s, %s)\"\n",
    "    \n",
    "    # Inserindo relação da primeira palavra com o comando\n",
    "    cursor.execute(insert_query, (word1_id, command_id))\n",
    "    \n",
    "    # Inserindo relação da segunda palavra com o comando\n",
    "    cursor.execute(insert_query, (word2_id, command_id))\n",
    "    \n",
    "    connection.commit()\n",
    "    cursor.close()\n",
    "    connection.close()"
   ]
  },
  {
   "cell_type": "markdown",
   "id": "fa04acde",
   "metadata": {},
   "source": [
    "## Cadastra Comandos"
   ]
  },
  {
   "cell_type": "code",
   "execution_count": 21,
   "id": "eb010245",
   "metadata": {},
   "outputs": [],
   "source": [
    "def cadastreCMD(command_name):\n",
    "    \"\"\"Cadastra um novo comando na tabela commands.\"\"\"\n",
    "    connection = connect_to_database()\n",
    "    cursor = connection.cursor()\n",
    "    \n",
    "    insert_query = \"INSERT INTO commands (command_name) VALUES (%s)\"\n",
    "    \n",
    "    try:\n",
    "        cursor.execute(insert_query, (command_name,))\n",
    "        connection.commit()\n",
    "    except mysql.connector.Error as err:\n",
    "        print(f\"Erro ao inserir comando '{command_name}': {err}\")\n",
    "    \n",
    "    cursor.close()\n",
    "    connection.close()\n",
    "\n",
    "def ExemploCMD():   \n",
    "    for cmd in comandos:\n",
    "        cadastreCMD(cmd)"
   ]
  },
  {
   "cell_type": "markdown",
   "id": "6ba8f807",
   "metadata": {},
   "source": [
    "## Cadastra Palavras"
   ]
  },
  {
   "cell_type": "code",
   "execution_count": 37,
   "id": "97843971",
   "metadata": {},
   "outputs": [],
   "source": [
    "def CadastraWords(word_name):\n",
    "    \"\"\"Cadastra uma nova palavra na tabela words.\"\"\"\n",
    "    connection = connect_to_database()\n",
    "    cursor = connection.cursor()\n",
    "    \n",
    "    insert_query = \"INSERT INTO words (word_name) VALUES (%s)\"\n",
    "    \n",
    "    try:\n",
    "        cursor.execute(insert_query, (word_name,))\n",
    "        connection.commit()\n",
    "    except mysql.connector.Error as err:\n",
    "        print(f\"Erro ao inserir palavra '{word_name}': {err}\")\n",
    "    \n",
    "    cursor.close()\n",
    "    connection.close()\n",
    "\n",
    "\n",
    "def ExemploWords():\n",
    "  for frase in frases:\n",
    "        palavras = frase.split() # Separa a frase em palavras individuais\n",
    "        for palavra in palavras:\n",
    "            # Ignoramos palavras muito comuns (stop words) e números\n",
    "            if palavra.lower() not in stop_words and not palavra.isnumeric():\n",
    "                CadastraWords(palavra)\n"
   ]
  },
  {
   "cell_type": "markdown",
   "id": "cd49148a",
   "metadata": {},
   "source": [
    "## Cria Arestas"
   ]
  },
  {
   "cell_type": "code",
   "execution_count": 34,
   "id": "a64aaf23",
   "metadata": {},
   "outputs": [],
   "source": [
    "def get_id_words(value, column_name):\n",
    "    \"\"\"Retorna o ID associado a um valor em uma coluna e tabela específicos.\"\"\"\n",
    "    connection = connect_to_database()\n",
    "    cursor = connection.cursor()\n",
    "\n",
    "    select_query = f\"SELECT word_id FROM words WHERE {column_name} = %s\"\n",
    "    cursor.execute(select_query, (value,))\n",
    "\n",
    "    result = cursor.fetchone()\n",
    "    cursor.close()\n",
    "    connection.close()\n",
    "\n",
    "    return result[0] if result else None\n",
    "\n",
    "def get_id_commands(value, column_name):\n",
    "    \"\"\"Retorna o ID associado a um valor em uma coluna e tabela específicos.\"\"\"\n",
    "    connection = connect_to_database()\n",
    "    cursor = connection.cursor()\n",
    "\n",
    "    select_query = f\"SELECT command_id FROM commands WHERE {column_name} = %s\"\n",
    "    cursor.execute(select_query, (value,))\n",
    "\n",
    "    result = cursor.fetchone()\n",
    "    cursor.close()\n",
    "    connection.close()\n",
    "\n",
    "    return result[0] if result else None\n",
    "\n",
    "\n",
    "def CriaArestas(Word1, Word2, Cmd):\n",
    "    print(Word1)\n",
    "    print(Word2)\n",
    "    \"\"\"Cria uma aresta associando Word1 e Word2 ao comando Cmd.\"\"\"\n",
    "    word1_id = get_id_words(Word1, \"word_name\")\n",
    "    word2_id = get_id_words(Word2, \"word_name\")\n",
    "    cmd_id = get_id_commands(Cmd,  \"command_name\")\n",
    "\n",
    "    print(word1_id);\n",
    "    print(word2_id);\n",
    "    print(cmd_id);\n",
    "\n",
    "    if not word1_id or not word2_id or not cmd_id:\n",
    "        print(\"Erro: Um ou mais valores não foram encontrados no banco de dados.\")\n",
    "        return\n",
    "\n",
    "    connection = connect_to_database()\n",
    "    cursor = connection.cursor()\n",
    "    \n",
    "    insert_query = \"\"\"\n",
    "    INSERT INTO edges (word_id1, word_id2, command_id)\n",
    "    VALUES (%s, %s, %s)\n",
    "    \"\"\"\n",
    "    \n",
    "    try:\n",
    "        cursor.execute(insert_query, (word1_id, word2_id, cmd_id))\n",
    "        connection.commit()\n",
    "    except mysql.connector.Error as err:\n",
    "        print(f\"Erro ao inserir aresta: {err}\")\n",
    "    \n",
    "    cursor.close()\n",
    "    connection.close()"
   ]
  },
  {
   "cell_type": "markdown",
   "id": "62877ae4",
   "metadata": {},
   "source": [
    "## Exemplo Arestas"
   ]
  },
  {
   "cell_type": "code",
   "execution_count": 35,
   "id": "df4039c8",
   "metadata": {},
   "outputs": [],
   "source": [
    "def ExemploAresta():\n",
    "    for index, frase in enumerate(frases):\n",
    "        palavras = [palavra for palavra in frase.split() if palavra.lower() not in stop_words and not palavra.isnumeric()]\n",
    "        \n",
    "        for i in range(len(palavras) - 1):\n",
    "            # Criamos arestas entre palavras sequenciais e associamos a um comando\n",
    "            CriaArestas(palavras[i], palavras[i+1], comandos[index])\n"
   ]
  },
  {
   "cell_type": "markdown",
   "id": "ca13e424",
   "metadata": {},
   "source": [
    "# Juntando Tudo"
   ]
  },
  {
   "cell_type": "code",
   "execution_count": 40,
   "id": "7d502383",
   "metadata": {},
   "outputs": [
    {
     "name": "stdout",
     "output_type": "stream",
     "text": [
      "Comece\n",
      "gravação\n",
      "44\n",
      "45\n",
      "5\n",
      "gravação\n",
      "áudio\n",
      "45\n",
      "46\n",
      "5\n",
      "Salve\n",
      "texto\n",
      "47\n",
      "48\n",
      "6\n",
      "texto\n",
      "importante\n",
      "48\n",
      "49\n",
      "6\n",
      "Defina\n",
      "alerta\n",
      "50\n",
      "51\n",
      "7\n",
      "alerta\n",
      "amanhã\n",
      "51\n",
      "52\n",
      "7\n",
      "Quero\n",
      "gravação\n",
      "53\n",
      "45\n",
      "5\n",
      "gravação\n",
      "dessa\n",
      "45\n",
      "54\n",
      "5\n",
      "dessa\n",
      "reunião\n",
      "54\n",
      "55\n",
      "5\n",
      "Salve\n",
      "anotação\n",
      "47\n",
      "56\n",
      "8\n",
      "anotação\n",
      "rapidamente\n",
      "56\n",
      "57\n",
      "8\n"
     ]
    }
   ],
   "source": [
    "connect_to_database()\n",
    "\n",
    "ExemploWords();\n",
    "\n",
    "ExemploCMD();\n",
    "\n",
    "ExemploAresta();"
   ]
  },
  {
   "cell_type": "code",
   "execution_count": null,
   "id": "f5c24f3f",
   "metadata": {},
   "outputs": [],
   "source": []
  },
  {
   "cell_type": "code",
   "execution_count": null,
   "id": "081a27ec",
   "metadata": {},
   "outputs": [],
   "source": []
  }
 ],
 "metadata": {
  "kernelspec": {
   "display_name": "Python 3 (ipykernel)",
   "language": "python",
   "name": "python3"
  },
  "language_info": {
   "codemirror_mode": {
    "name": "ipython",
    "version": 3
   },
   "file_extension": ".py",
   "mimetype": "text/x-python",
   "name": "python",
   "nbconvert_exporter": "python",
   "pygments_lexer": "ipython3",
   "version": "3.9.13"
  }
 },
 "nbformat": 4,
 "nbformat_minor": 5
}
